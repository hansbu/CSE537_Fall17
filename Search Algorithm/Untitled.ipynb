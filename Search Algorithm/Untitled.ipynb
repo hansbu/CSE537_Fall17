{
 "cells": [
  {
   "cell_type": "code",
   "execution_count": 1,
   "metadata": {
    "collapsed": true
   },
   "outputs": [],
   "source": [
    "from implementation import *"
   ]
  },
  {
   "cell_type": "code",
   "execution_count": 2,
   "metadata": {},
   "outputs": [
    {
     "name": "stdout",
     "output_type": "stream",
     "text": [
      ". . . . . . . . . . . . . . . . . . . . . ####. . . . . . . \n",
      ". . . . . . . . . . . . . . . . . . . . . ####. . . . . . . \n",
      ". . . . . . . . . . . . . . . . . . . . . ####. . . . . . . \n",
      ". . . ####. . . . . . . . . . . . . . . . ####. . . . . . . \n",
      ". . . ####. . . . . . . . ####. . . . . . ####. . . . . . . \n",
      ". . . ####. . . . . . . . ####. . . . . . ##########. . . . \n",
      ". . . ####. . . . . . . . ####. . . . . . ##########. . . . \n",
      ". . . ####. . . . . . . . ####. . . . . . . . . . . . . . . \n",
      ". . . ####. . . . . . . . ####. . . . . . . . . . . . . . . \n",
      ". . . ####. . . . . . . . ####. . . . . . . . . . . . . . . \n",
      ". . . ####. . . . . . . . ####. . . . . . . . . . . . . . . \n",
      ". . . ####. . . . . . . . ####. . . . . . . . . . . . . . . \n",
      ". . . . . . . . . . . . . ####. . . . . . . . . . . . . . . \n",
      ". . . . . . . . . . . . . ####. . . . . . . . . . . . . . . \n",
      ". . . . . . . . . . . . . ####. . . . . . . . . . . . . . . \n"
     ]
    }
   ],
   "source": [
    "g = SquareGrid(30, 15)\n",
    "g.walls = DIAGRAM1_WALLS # long list, [(21, 0), (21, 2), ...]\n",
    "draw_grid(g)"
   ]
  },
  {
   "cell_type": "code",
   "execution_count": 3,
   "metadata": {},
   "outputs": [
    {
     "name": "stdout",
     "output_type": "stream",
     "text": [
      "→ → → → ↓ ↓ ↓ ↓ ↓ ↓ ↓ ↓ ↓ ↓ ↓ ↓ ← ← ← ← ← ####↓ ↓ ↓ ↓ ↓ ↓ ↓ \n",
      "→ → → → → ↓ ↓ ↓ ↓ ↓ ↓ ↓ ↓ ↓ ↓ ← ← ← ← ← ← ####↓ ↓ ↓ ↓ ↓ ↓ ↓ \n",
      "→ → → → → ↓ ↓ ↓ ↓ ↓ ↓ ↓ ↓ ↓ ← ← ← ← ← ← ← ####→ ↓ ↓ ↓ ↓ ↓ ↓ \n",
      "→ → ↑ ####↓ ↓ ↓ ↓ ↓ ↓ ↓ ↓ ← ← ← ← ← ← ← ← ####→ → ↓ ↓ ↓ ↓ ↓ \n",
      "→ ↑ ↑ ####→ ↓ ↓ ↓ ↓ ↓ ↓ ← ####↑ ← ← ← ← ← ####→ → → ↓ ↓ ↓ ↓ \n",
      "↑ ↑ ↑ ####→ → ↓ ↓ ↓ ↓ ← ← ####↑ ↑ ← ← ← ← ##########↓ ↓ ↓ ← \n",
      "↑ ↑ ↑ ####→ → → ↓ ↓ ← ← ← ####↑ ↑ ↑ ← ← ← ##########↓ ↓ ← ← \n",
      "↑ ↑ ↑ ####→ → → A ← ← ← ← ####↑ ↑ ↑ ↑ ← ← ← ← ← ← ← ← ← ← ← \n",
      "↓ ↓ ↓ ####→ → ↑ ↑ ↑ ← ← ← ####↑ ↑ ↑ ↑ ↑ ← ← ← ← ← ← ← ← ← ← \n",
      "↓ ↓ ↓ ####→ ↑ ↑ ↑ ↑ ↑ ← ← ####↑ ↑ ↑ ↑ ↑ ↑ ← ← ← ← ← ← ← ← ← \n",
      "↓ ↓ ↓ ####↑ ↑ ↑ ↑ ↑ ↑ ↑ ← ####↑ ↑ ↑ ↑ ↑ ↑ ↑ ← ← ← ← ← ← ← ← \n",
      "→ ↓ ↓ ####↑ ↑ ↑ ↑ ↑ ↑ ↑ ↑ ####↑ ↑ ↑ ↑ ↑ ↑ ↑ ↑ ← ← ← ← ← ← ← \n",
      "→ → → → → ↑ ↑ ↑ ↑ ↑ ↑ ↑ ↑ ####↑ ↑ ↑ ↑ ↑ ↑ ↑ ↑ ↑ ← ← ← ← ← ← \n",
      "→ → → → ↑ ↑ ↑ ↑ ↑ ↑ ↑ ↑ ↑ ####↑ ↑ ↑ ↑ ↑ ↑ ↑ ↑ ↑ ↑ ← ← ← ← ← \n",
      "→ → → ↑ ↑ ↑ ↑ ↑ ↑ ↑ ↑ ↑ ↑ ####↑ ↑ ↑ ↑ ↑ ↑ ↑ ↑ ↑ ↑ ↑ ← ← ← ← \n"
     ]
    }
   ],
   "source": [
    "def breadth_first_search_2(graph, start):\n",
    "    # return \"came_from\"\n",
    "    frontier = Queue()\n",
    "    frontier.put(start)\n",
    "    came_from = {}\n",
    "    came_from[start] = None\n",
    "    \n",
    "    while not frontier.empty():\n",
    "        current = frontier.get()\n",
    "        for next in graph.neighbors(current):\n",
    "            if next not in came_from:\n",
    "                frontier.put(next)\n",
    "                came_from[next] = current\n",
    "    \n",
    "    return came_from\n",
    "\n",
    "g = SquareGrid(30, 15)\n",
    "g.walls = DIAGRAM1_WALLS\n",
    "\n",
    "parents = breadth_first_search_2(g, (8, 7))\n",
    "draw_grid(g, width=2, point_to=parents, start=(8, 7))"
   ]
  },
  {
   "cell_type": "code",
   "execution_count": 4,
   "metadata": {},
   "outputs": [
    {
     "name": "stdout",
     "output_type": "stream",
     "text": [
      "Visiting 'A'\n",
      "Visiting 'B'\n",
      "Visiting 'C'\n",
      "Visiting 'D'\n",
      "Visiting 'E'\n"
     ]
    }
   ],
   "source": [
    "def breadth_first_search_1(graph, start):\n",
    "    # print out what we find\n",
    "    frontier = Queue()\n",
    "    frontier.put(start)\n",
    "    visited = {}\n",
    "    visited[start] = True\n",
    "    \n",
    "    while not frontier.empty():\n",
    "        current = frontier.get()\n",
    "        print(\"Visiting %r\" % current)\n",
    "        for next in graph.neighbors(current):\n",
    "            if next not in visited:\n",
    "                frontier.put(next)\n",
    "                visited[next] = True\n",
    "\n",
    "breadth_first_search_1(example_graph, 'A')"
   ]
  },
  {
   "cell_type": "code",
   "execution_count": null,
   "metadata": {
    "collapsed": true
   },
   "outputs": [],
   "source": []
  }
 ],
 "metadata": {
  "kernelspec": {
   "display_name": "Python 3",
   "language": "python",
   "name": "python3"
  },
  "language_info": {
   "codemirror_mode": {
    "name": "ipython",
    "version": 3
   },
   "file_extension": ".py",
   "mimetype": "text/x-python",
   "name": "python",
   "nbconvert_exporter": "python",
   "pygments_lexer": "ipython3",
   "version": "3.5.3"
  }
 },
 "nbformat": 4,
 "nbformat_minor": 2
}
